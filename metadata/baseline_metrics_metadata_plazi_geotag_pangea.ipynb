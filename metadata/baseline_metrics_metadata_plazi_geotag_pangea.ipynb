{
 "cells": [
  {
   "cell_type": "code",
   "execution_count": 1,
   "metadata": {},
   "outputs": [],
   "source": [
    "import pandas as pd\n",
    "import json\n",
    "import requests\n",
    "import csv\n",
    "import numpy as np\n",
    "import matplotlib.pyplot as plt\n",
    "%matplotlib inline  \n",
    "import seaborn as sns\n",
    "import time\n",
    "from generate_and_plot_baseline_metrics import *"
   ]
  },
  {
   "cell_type": "code",
   "execution_count": 2,
   "metadata": {},
   "outputs": [],
   "source": [
    "# Get all the datasets from API for PLAZI, GEO-TAG and PANGEA\n",
    "publishers = ['7ce8aef0-9e92-11dc-8738-b8a03c50a862',\n",
    "              'd5778510-eb28-11da-8629-b8a03c50a862',\n",
    "              'ef69a030-3940-11dd-b168-b8a03c50a862']\n",
    "datasets = []\n",
    "for publisher in publishers:\n",
    "    datasets += get_uuid_datasets_one_publisher(publisher, 900)"
   ]
  },
  {
   "cell_type": "code",
   "execution_count": null,
   "metadata": {},
   "outputs": [],
   "source": [
    "################ Split dataset per type ################\n",
    "summary_metadata = get_metadata_from_API(datasets[0:10000])\n",
    "print(\"10000 ok sleep 5 min\")\n",
    "time.sleep(60*5)\n",
    "summary_metadata = get_metadata_from_API(datasets[10000:20000])\n",
    "print(\"20000 ok sleep 5 min\")\n",
    "time.sleep(60*5)\n",
    "summary_metadata = get_metadata_from_API(datasets[20000:len(datasets)])\n",
    "\n",
    "checklist_summary_metadata = summary_metadata[summary_metadata.type == \"CHECKLIST\"]\n",
    "other_summary_metadata = summary_metadata[summary_metadata.type != \"CHECKLIST\"]"
   ]
  },
  {
   "cell_type": "code",
   "execution_count": null,
   "metadata": {},
   "outputs": [],
   "source": [
    "################ Get metadata for example dataset ################\n",
    "example_datasets = example_datasets = pd.read_table(\"potentially_exemplary_datasets.txt\", names=[\"uuid\"])[\"uuid\"].tolist()\n",
    "summary_example_datasets = get_metadata_from_API(example_datasets)"
   ]
  },
  {
   "cell_type": "code",
   "execution_count": null,
   "metadata": {},
   "outputs": [],
   "source": [
    "################ Esthetic ################\n",
    "\n",
    "score_names = {\"score_TD\" : \"title and description\", \n",
    "               \"score_E\" : \"contact\", \n",
    "               \"score_G\" : \"geographic coverage\", \n",
    "               \"score_T\" : \"time coverage\", \n",
    "               \"score_M\" : \"methods\"}\n",
    "\n",
    "score_names_checklist = {\"score_TD\" : \"title and description\", \n",
    "                         \"score_E\" : \"contact\", \n",
    "                         \"score_G\" : \"geographic coverage\"}\n",
    "\n",
    "scores = {0: '#ff8c5b', 1: '#f7e865', 2: '#8add7c'}"
   ]
  },
  {
   "cell_type": "markdown",
   "metadata": {},
   "source": [
    "# Quality statistics\n",
    "\n",
    "The example datasets are the following:\n",
    "* [Asteroids, ophiuroids and holothurians from the South-Eastern Weddell Sea (Southern Ocean)](https://www.gbif.org/dataset/a6058a01-5880-41f5-9dbf-3eef8591f714)\n",
    "* [Circumpolar dataset of sequenced specimens of Promachocrinus kerguelensis (Echinodermata, Crinoidea)](https://www.gbif.org/dataset/9dae1fa0-5800-4f18-8f4e-a87f05c73eb1)\n",
    "* [Sightings of marine mammals carried out during oceanographic surveys in the Argentine continental shelf](https://www.gbif.org/dataset/79e731ed-fe9b-4d50-93f7-ab1f01636385)\n",
    "* [Data from ILAM surveys conducted by ARCOS in Rusumo landscape for year 2016](https://www.gbif.org/dataset/5d17a4fd-7249-46c0-a56b-1924d477b29e)\n",
    "* [Djamde Wildlife Reserve in Togo: diversity of woody species](https://www.gbif.org/dataset/966b3e29-f1e4-4190-badd-100bc989788f)\n",
    "* [Monitoring data of marine turtles on the Togolese coast over 2012-2013 years](https://www.gbif.org/dataset/11c00ed9-1c1b-47d1-9eb4-66a491c7d7b3)\n",
    "* [Bird tracking - GPS tracking of Lesser Black-backed Gulls and Herring Gulls breeding at the southern North Sea coast](https://www.gbif.org/dataset/83e20573-f7dd-4852-9159-21566e1e691e)\n",
    "\n",
    "## Scoring system\n",
    "\n",
    "### Title and description\n",
    "\n",
    "* **Incomplete** : title or description missing\n",
    "\n",
    "* **ok** : title and description present\n",
    "\n",
    "* **good** : title has more than three words\n",
    "\n",
    "### Contact\n",
    "\n",
    "* **Incomplete** : no administrative nor technical contact\n",
    "\n",
    "* **ok** : administrative or technical contact\n",
    "\n",
    "* **good** : administrative or technical contact with email\n",
    "\n",
    "\n",
    "### Geographic coverage\n",
    "\n",
    "* **Incomplete** : no geographic coverage\n",
    "\n",
    "* **ok** : bounding box or description\n",
    "\n",
    "* **good** : bounding box and description\n",
    "\n",
    "### Time coverage\n",
    "\n",
    "* **Incomplete** : no time coverage\n",
    "\n",
    "* **ok** : one date\n",
    "\n",
    "* **good** : at least two dates (range)\n",
    "\n",
    "### Method\n",
    "\n",
    "* **Incomplete** : no method section\n",
    "\n",
    "* **ok** : some method\n",
    "\n",
    "* **good** : one paragraph for each category: sampling, study extent, quality control, method step\n",
    "\n",
    "\n",
    "## Overall quality for the datasets\n",
    "\n",
    "### Non-checklists"
   ]
  },
  {
   "cell_type": "code",
   "execution_count": null,
   "metadata": {},
   "outputs": [],
   "source": [
    "plot_general_scores(other_summary_metadata, score_names, scores)"
   ]
  },
  {
   "cell_type": "markdown",
   "metadata": {},
   "source": [
    "### Checklist"
   ]
  },
  {
   "cell_type": "code",
   "execution_count": null,
   "metadata": {},
   "outputs": [],
   "source": [
    "plot_general_scores(checklist_summary_metadata, score_names_checklist, scores)"
   ]
  },
  {
   "cell_type": "markdown",
   "metadata": {},
   "source": [
    "## Quality each dataset (subsample of 500)\n",
    "\n",
    "### Non-checklist"
   ]
  },
  {
   "cell_type": "code",
   "execution_count": null,
   "metadata": {},
   "outputs": [],
   "source": [
    "plot_each_dataset_score(other_summary_metadata[0:500], score_names, scores)"
   ]
  },
  {
   "cell_type": "markdown",
   "metadata": {},
   "source": [
    "### Checklist"
   ]
  },
  {
   "cell_type": "code",
   "execution_count": null,
   "metadata": {},
   "outputs": [],
   "source": [
    "plot_each_dataset_score(checklist_summary_metadata[0:500], score_names_checklist, scores)"
   ]
  },
  {
   "cell_type": "code",
   "execution_count": null,
   "metadata": {},
   "outputs": [],
   "source": [
    "summary_metadata.to_csv(\"summary_baseline_metrics_metadata_only_PLAZI_GEOTAG_PANGEA.txt\", sep = \"\\t\")"
   ]
  },
  {
   "cell_type": "code",
   "execution_count": 4,
   "metadata": {},
   "outputs": [
    {
     "data": {
      "text/plain": [
       "31199"
      ]
     },
     "execution_count": 4,
     "metadata": {},
     "output_type": "execute_result"
    }
   ],
   "source": [
    "len(datasets)"
   ]
  },
  {
   "cell_type": "code",
   "execution_count": null,
   "metadata": {},
   "outputs": [],
   "source": []
  }
 ],
 "metadata": {
  "kernelspec": {
   "display_name": "Python 3",
   "language": "python",
   "name": "python3"
  },
  "language_info": {
   "codemirror_mode": {
    "name": "ipython",
    "version": 3
   },
   "file_extension": ".py",
   "mimetype": "text/x-python",
   "name": "python",
   "nbconvert_exporter": "python",
   "pygments_lexer": "ipython3",
   "version": "3.6.4"
  }
 },
 "nbformat": 4,
 "nbformat_minor": 2
}
