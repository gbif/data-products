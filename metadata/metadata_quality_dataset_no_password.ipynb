{
 "cells": [
  {
   "cell_type": "code",
   "execution_count": 1,
   "metadata": {},
   "outputs": [],
   "source": [
    "import pandas as pd\n",
    "import json\n",
    "import requests\n",
    "import csv\n",
    "import numpy as np\n",
    "import matplotlib.pyplot as plt\n",
    "%matplotlib inline  \n",
    "import seaborn as sns\n",
    "import time\n",
    "import sys\n",
    "import psycopg2\n",
    "import datetime\n",
    "import pytz\n",
    "sys.path.insert(0, \"/Users/gjq527/Box Sync/Documents – YN13997/metadata/scripts/\")\n",
    "from generate_and_plot_baseline_metrics import *\n",
    "sys.path.insert(0, \"/Users/gjq527/Box Sync/Documents – YN13997/troubleshooting/datasets_containing_preserved_specimens/\")\n",
    "from find_preserved_specimen_collection_and_datasets import *"
   ]
  },
  {
   "cell_type": "code",
   "execution_count": 3,
   "metadata": {},
   "outputs": [],
   "source": [
    "# Get all the datasets from API except the ones from PLAZI, GEO-TAG and PANGEA\n",
    "summary_metadata = get_metadata_from_API(None, None, 900)\n",
    "summary_metadata.to_csv(\"../summary_baseline_metrics_metadata_2020-01-26.txt\", sep=\"\\t\")\n",
    "# summary_metadata.to_csv(\"../summary_baseline_metrics_metadata_2020-03-04.txt\", sep=\"\\t\")\n",
    "# summary_metadata = pd.read_table(\"../summary_baseline_metrics_metadata.txt\")\n",
    "# summary_metadata = summary_metadata.set_index(\"UUID\")"
   ]
  },
  {
   "cell_type": "code",
   "execution_count": 4,
   "metadata": {},
   "outputs": [],
   "source": [
    "################ Split dataset per type ################\n",
    "checklist_summary_metadata = summary_metadata[summary_metadata.type == \"CHECKLIST\"]\n",
    "other_summary_metadata = summary_metadata[summary_metadata.type != \"CHECKLIST\"]"
   ]
  },
  {
   "cell_type": "markdown",
   "metadata": {},
   "source": [
    "## Quality scoring for multiple datasets"
   ]
  },
  {
   "cell_type": "code",
   "execution_count": 5,
   "metadata": {},
   "outputs": [],
   "source": [
    "conn = psycopg2.connect(dbname='prod_b_registry', \n",
    "                        user='', \n",
    "                        host='pg1.gbif.org', \n",
    "                        password='')\n",
    "cur = conn.cursor()\n",
    "# This is the query for the registry\n",
    "query = \"\"\"SELECT d.key, d.created, node.title, node.continent, node.country\n",
    "           FROM dataset d JOIN organization o ON d.publishing_organization_key = o.key\n",
    "           JOIN node ON o.endorsing_node_key = node.key;\"\"\"\n",
    "# Queries the GBIF registry\n",
    "cur.execute(query)\n",
    "res_query = cur.fetchall()\n",
    "\n",
    "dataset_per_publishing_country = pd.DataFrame(res_query, columns=['UUID',\n",
    "                                                                  'created',\n",
    "                                                                  'nodeTitle',\n",
    "                                                                  'nodeContinent',\n",
    "                                                                  'nodeCountry'])\n",
    "dataset_per_publishing_country = dataset_per_publishing_country.set_index(\"UUID\")\n",
    "cur.close()\n",
    "conn.close()"
   ]
  },
  {
   "cell_type": "code",
   "execution_count": 6,
   "metadata": {},
   "outputs": [],
   "source": [
    "summary_metadata = pd.concat([summary_metadata, dataset_per_publishing_country], axis=1, join='inner')"
   ]
  },
  {
   "cell_type": "code",
   "execution_count": 7,
   "metadata": {},
   "outputs": [],
   "source": [
    "# Classify datasets per preserved specimens VS not\n",
    "preserved_specimens_ds = number_of_dataset_with_preserved_specimen(1000, True)\n",
    "preserved_specimens_ds_list = [d['name'] for d in preserved_specimens_ds]\n",
    "maskPS = summary_metadata.index.isin(preserved_specimens_ds_list)"
   ]
  },
  {
   "cell_type": "code",
   "execution_count": 8,
   "metadata": {},
   "outputs": [],
   "source": [
    "summary_metadata.loc[(summary_metadata.type == \"CHECKLIST\")&~maskPS, \"overall_score\"] = summary_metadata[[\"score_what\", \"score_who\"]].sum(axis=1)/5"
   ]
  },
  {
   "cell_type": "code",
   "execution_count": 9,
   "metadata": {},
   "outputs": [],
   "source": [
    "summary_metadata.loc[(summary_metadata.type != \"CHECKLIST\")&~maskPS, \"overall_score\"] = summary_metadata[[\"score_what\", \"score_who\", \"score_where\", \"score_when\", \"score_how\"]].sum(axis=1)/10"
   ]
  },
  {
   "cell_type": "code",
   "execution_count": 10,
   "metadata": {},
   "outputs": [],
   "source": [
    "summary_metadata.loc[maskPS, \"overall_score\"] = summary_metadata[[\"score_what\", \"score_who\", \"score_where\", \"score_when\"]].sum(axis=1)/8"
   ]
  },
  {
   "cell_type": "code",
   "execution_count": 11,
   "metadata": {},
   "outputs": [],
   "source": [
    "def make_stats(summary_metadata, groupby, threshold, year, mask):\n",
    "    # Column names\n",
    "    year = str(year)\n",
    "    nb_DSpublished = \"Number of dataset published in \"+year\n",
    "    before_year_nb_DSpublished = \"Number of dataset published BEFORE \"+year\n",
    "    percentage_below_thresh = \"Pct of \"+year+\" datasets with insufficient metadata\"\n",
    "    before_year_percentage_below_thresh = \"Pct of datasets published BEFORE \"+year+\" with insufficient metadata\"\n",
    "    score_below_thresh = \"score_below_thresh\"\n",
    "    \n",
    "    summary_metadata[score_below_thresh] = summary_metadata[\"overall_score\"] < threshold\n",
    "    \n",
    "    stats_per_groupby = pd.DataFrame(columns=[nb_DSpublished,\n",
    "                                              before_year_nb_DSpublished,\n",
    "                                              percentage_below_thresh,\n",
    "                                              before_year_percentage_below_thresh\n",
    "                                               ])\n",
    "      \n",
    "    stats_per_groupby[nb_DSpublished] = summary_metadata[mask].groupby([groupby])[\"overall_score\"].count()\n",
    "    stats_per_groupby[before_year_nb_DSpublished] = summary_metadata[~mask].groupby([groupby])[\"overall_score\"].count()\n",
    "    stats_per_groupby[percentage_below_thresh] = summary_metadata[mask].groupby([groupby])[score_below_thresh].sum()*100/stats_per_groupby[nb_DSpublished]\n",
    "    stats_per_groupby[before_year_percentage_below_thresh] = summary_metadata[~mask].groupby([groupby])[score_below_thresh].sum()*100/stats_per_groupby[before_year_nb_DSpublished]\n",
    "    return stats_per_groupby"
   ]
  },
  {
   "cell_type": "code",
   "execution_count": 12,
   "metadata": {},
   "outputs": [],
   "source": [
    "year = 2020\n",
    "threshold = 0.6\n",
    "summary_metadata = summary_metadata[pd.to_datetime(summary_metadata.created, utc=True) < datetime.datetime(year=year+1, month=1, day=1, tzinfo = pytz.UTC)]\n",
    "mask2018 = (pd.to_datetime(summary_metadata.created, utc=True) >= datetime.datetime(year=year, month=1, day=1, tzinfo = pytz.UTC))\n",
    "\n",
    "stats_per_continent = make_stats(summary_metadata, \"nodeContinent\", threshold, year, mask2018)\n",
    "stats_per_node = make_stats(summary_metadata, \"nodeTitle\", threshold, year, mask2018)"
   ]
  },
  {
   "cell_type": "code",
   "execution_count": 13,
   "metadata": {},
   "outputs": [
    {
     "data": {
      "text/html": [
       "<div>\n",
       "<style scoped>\n",
       "    .dataframe tbody tr th:only-of-type {\n",
       "        vertical-align: middle;\n",
       "    }\n",
       "\n",
       "    .dataframe tbody tr th {\n",
       "        vertical-align: top;\n",
       "    }\n",
       "\n",
       "    .dataframe thead th {\n",
       "        text-align: right;\n",
       "    }\n",
       "</style>\n",
       "<table border=\"1\" class=\"dataframe\">\n",
       "  <thead>\n",
       "    <tr style=\"text-align: right;\">\n",
       "      <th></th>\n",
       "      <th>Number of dataset published in 2020</th>\n",
       "      <th>Number of dataset published BEFORE 2020</th>\n",
       "      <th>Pct of 2020 datasets with insufficient metadata</th>\n",
       "      <th>Pct of datasets published BEFORE 2020 with insufficient metadata</th>\n",
       "    </tr>\n",
       "    <tr>\n",
       "      <th>nodeContinent</th>\n",
       "      <th></th>\n",
       "      <th></th>\n",
       "      <th></th>\n",
       "      <th></th>\n",
       "    </tr>\n",
       "  </thead>\n",
       "  <tbody>\n",
       "    <tr>\n",
       "      <td>AFRICA</td>\n",
       "      <td>95</td>\n",
       "      <td>576</td>\n",
       "      <td>0.000000</td>\n",
       "      <td>4.861111</td>\n",
       "    </tr>\n",
       "    <tr>\n",
       "      <td>ASIA</td>\n",
       "      <td>103</td>\n",
       "      <td>708</td>\n",
       "      <td>52.427184</td>\n",
       "      <td>69.067797</td>\n",
       "    </tr>\n",
       "    <tr>\n",
       "      <td>EUROPE</td>\n",
       "      <td>4639</td>\n",
       "      <td>42840</td>\n",
       "      <td>62.944600</td>\n",
       "      <td>42.215219</td>\n",
       "    </tr>\n",
       "    <tr>\n",
       "      <td>NORTH_AMERICA</td>\n",
       "      <td>281</td>\n",
       "      <td>1827</td>\n",
       "      <td>24.555160</td>\n",
       "      <td>18.062397</td>\n",
       "    </tr>\n",
       "    <tr>\n",
       "      <td>OCEANIA</td>\n",
       "      <td>28</td>\n",
       "      <td>615</td>\n",
       "      <td>42.857143</td>\n",
       "      <td>47.479675</td>\n",
       "    </tr>\n",
       "    <tr>\n",
       "      <td>SOUTH_AMERICA</td>\n",
       "      <td>442</td>\n",
       "      <td>1795</td>\n",
       "      <td>9.728507</td>\n",
       "      <td>4.512535</td>\n",
       "    </tr>\n",
       "  </tbody>\n",
       "</table>\n",
       "</div>"
      ],
      "text/plain": [
       "               Number of dataset published in 2020  \\\n",
       "nodeContinent                                        \n",
       "AFRICA                                          95   \n",
       "ASIA                                           103   \n",
       "EUROPE                                        4639   \n",
       "NORTH_AMERICA                                  281   \n",
       "OCEANIA                                         28   \n",
       "SOUTH_AMERICA                                  442   \n",
       "\n",
       "               Number of dataset published BEFORE 2020  \\\n",
       "nodeContinent                                            \n",
       "AFRICA                                             576   \n",
       "ASIA                                               708   \n",
       "EUROPE                                           42840   \n",
       "NORTH_AMERICA                                     1827   \n",
       "OCEANIA                                            615   \n",
       "SOUTH_AMERICA                                     1795   \n",
       "\n",
       "               Pct of 2020 datasets with insufficient metadata  \\\n",
       "nodeContinent                                                    \n",
       "AFRICA                                                0.000000   \n",
       "ASIA                                                 52.427184   \n",
       "EUROPE                                               62.944600   \n",
       "NORTH_AMERICA                                        24.555160   \n",
       "OCEANIA                                              42.857143   \n",
       "SOUTH_AMERICA                                         9.728507   \n",
       "\n",
       "               Pct of datasets published BEFORE 2020 with insufficient metadata  \n",
       "nodeContinent                                                                    \n",
       "AFRICA                                                  4.861111                 \n",
       "ASIA                                                   69.067797                 \n",
       "EUROPE                                                 42.215219                 \n",
       "NORTH_AMERICA                                          18.062397                 \n",
       "OCEANIA                                                47.479675                 \n",
       "SOUTH_AMERICA                                           4.512535                 "
      ]
     },
     "execution_count": 13,
     "metadata": {},
     "output_type": "execute_result"
    }
   ],
   "source": [
    "stats_per_continent"
   ]
  },
  {
   "cell_type": "code",
   "execution_count": 14,
   "metadata": {},
   "outputs": [],
   "source": [
    "writer = pd.ExcelWriter('metadata_quality_for_2020.xlsx')\n",
    "stats_per_continent.to_excel(writer,'CONTINENT')\n",
    "stats_per_node.to_excel(writer,'ENDOSING NODE')\n",
    "writer.save()"
   ]
  },
  {
   "cell_type": "code",
   "execution_count": 15,
   "metadata": {},
   "outputs": [],
   "source": [
    "summary_metadata.to_csv(\"../summary_baseline_metrics_metadata_2020-01-26-2020-only-with-publisher.txt\", sep = \"\\t\")"
   ]
  },
  {
   "cell_type": "code",
   "execution_count": null,
   "metadata": {},
   "outputs": [],
   "source": []
  }
 ],
 "metadata": {
  "kernelspec": {
   "display_name": "Python 3",
   "language": "python",
   "name": "python3"
  },
  "language_info": {
   "codemirror_mode": {
    "name": "ipython",
    "version": 3
   },
   "file_extension": ".py",
   "mimetype": "text/x-python",
   "name": "python",
   "nbconvert_exporter": "python",
   "pygments_lexer": "ipython3",
   "version": "3.7.4"
  }
 },
 "nbformat": 4,
 "nbformat_minor": 2
}
