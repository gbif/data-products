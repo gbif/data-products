{
 "cells": [
  {
   "cell_type": "markdown",
   "metadata": {},
   "source": [
    "# Cummulative number of occurrence per publishing country\n",
    "\n",
    "This is a request that we got from NatureServe to help them with their metrics (https://bipdashboard.natureserve.org/bip/SelectCountry.html).\n",
    "They needed to the number of records on GBIF per publishing country over the years.\n",
    "\n",
    "In hive, in the analytics folder:\n",
    "\n",
    "```\n",
    "SELECT snapshot, publisher_country, sum(count) FROM occ_publishercountry_complete\n",
    "GROUP BY snapshot, publisher_country\n",
    "```\n",
    "Then download table"
   ]
  },
  {
   "cell_type": "code",
   "execution_count": 1,
   "metadata": {},
   "outputs": [],
   "source": [
    "import pandas as pd\n",
    "import csv"
   ]
  },
  {
   "cell_type": "code",
   "execution_count": 2,
   "metadata": {},
   "outputs": [],
   "source": [
    "hive_query = pd.read_table(\"analyitics_per_country_occ_count.csv\", sep=\",\")"
   ]
  },
  {
   "cell_type": "code",
   "execution_count": 3,
   "metadata": {},
   "outputs": [],
   "source": [
    "hive_query[\"month\"] = pd.to_datetime(hive_query.snapshot).dt.month\n",
    "hive_query[\"year\"] = pd.to_datetime(hive_query.snapshot).dt.year"
   ]
  },
  {
   "cell_type": "code",
   "execution_count": 4,
   "metadata": {},
   "outputs": [],
   "source": [
    "publisher_country = \"publisher_country\""
   ]
  },
  {
   "cell_type": "code",
   "execution_count": 5,
   "metadata": {},
   "outputs": [
    {
     "name": "stderr",
     "output_type": "stream",
     "text": [
      "/Users/gjq527/opt/anaconda3/lib/python3.7/site-packages/ipykernel_launcher.py:7: SettingWithCopyWarning: \n",
      "A value is trying to be set on a copy of a slice from a DataFrame.\n",
      "Try using .loc[row_indexer,col_indexer] = value instead\n",
      "\n",
      "See the caveats in the documentation: http://pandas.pydata.org/pandas-docs/stable/user_guide/indexing.html#returning-a-view-versus-a-copy\n",
      "  import sys\n"
     ]
    }
   ],
   "source": [
    "reshaped_table = pd.DataFrame(index=sorted(hive_query[publisher_country].fillna(\"NULL\").unique().tolist()))\n",
    "\n",
    "for year in hive_query.year.unique().tolist():\n",
    "    data_for_that_year = hive_query[hive_query.year == year]\n",
    "    max_month = data_for_that_year.month.max()\n",
    "    data_for_that_month = data_for_that_year[data_for_that_year.month == max_month]\n",
    "    data_for_that_month[publisher_country] = data_for_that_month[publisher_country].fillna(\"NULL\")\n",
    "    \n",
    "    for country in data_for_that_month[publisher_country].tolist():\n",
    "        reshaped_table.at[country, year] = data_for_that_month.loc[data_for_that_month[publisher_country] == country, \"_c2\"].values[0]"
   ]
  },
  {
   "cell_type": "code",
   "execution_count": 6,
   "metadata": {},
   "outputs": [],
   "source": [
    "reshaped_table.to_excel(\"cumulative_count_GBIF_publishing_country_oct2019.xlsx\")"
   ]
  },
  {
   "cell_type": "code",
   "execution_count": null,
   "metadata": {},
   "outputs": [],
   "source": []
  }
 ],
 "metadata": {
  "kernelspec": {
   "display_name": "Python 3",
   "language": "python",
   "name": "python3"
  },
  "language_info": {
   "codemirror_mode": {
    "name": "ipython",
    "version": 3
   },
   "file_extension": ".py",
   "mimetype": "text/x-python",
   "name": "python",
   "nbconvert_exporter": "python",
   "pygments_lexer": "ipython3",
   "version": "3.7.4"
  }
 },
 "nbformat": 4,
 "nbformat_minor": 2
}
